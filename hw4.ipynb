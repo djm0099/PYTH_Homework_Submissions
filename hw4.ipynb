{
  "cells": [
    {
      "cell_type": "markdown",
      "metadata": {
        "id": "4Dh8PN7tF_LB"
      },
      "source": [
        "<a href=\"https://colab.research.google.com/github/mottaquikarim/PYTH2/blob/master/src/PSETS/nb/homework_3_loops.ipynb\" target=\"_parent\"><img src=\"https://colab.research.google.com/assets/colab-badge.svg\" alt=\"Open In Colab\"/></a>"
      ]
    },
    {
      "cell_type": "markdown",
      "metadata": {
        "id": "C-5mQQcXF_LE"
      },
      "source": [
        "#  LOOPS\n",
        "\n",
        "## LOOP_BASICS\n",
        "\n",
        "### P1.PY\n",
        "\n",
        "\n"
      ]
    },
    {
      "cell_type": "code",
      "execution_count": null,
      "metadata": {
        "id": "PEaRit9DF_LF",
        "colab": {
          "base_uri": "https://localhost:8080/"
        },
        "outputId": "41aee281-7e0f-462c-b4d2-1417090564f7"
      },
      "outputs": [
        {
          "output_type": "stream",
          "name": "stdout",
          "text": [
            "[1, 3, 5, 7, 9]\n",
            "[2, 4, 6, 8, 10]\n"
          ]
        }
      ],
      "source": [
        "\"\"\"\n",
        "Odds & Evens\n",
        "\"\"\"\n",
        "\n",
        "# Use a loop to make a list of all odd numbers between 1 and 10 and another list with all the evens. When done, print the lists.\n",
        "odds = []\n",
        "for number in range(1,11):\n",
        "  if number % 2 != 0:\n",
        "    odds.append(number)\n",
        "print(odds)\n",
        "\n",
        "evens = []\n",
        "for i in range(1,11):\n",
        "  if i % 2 == 0:\n",
        "    evens.append(i)\n",
        "\n",
        "print(evens)\n"
      ]
    },
    {
      "cell_type": "markdown",
      "metadata": {
        "id": "6hzTXpssF_LH"
      },
      "source": [
        "\n",
        "\n",
        "### P2.PY\n",
        "\n",
        "\n"
      ]
    },
    {
      "cell_type": "code",
      "execution_count": null,
      "metadata": {
        "id": "QufrrGD5F_LH",
        "colab": {
          "base_uri": "https://localhost:8080/"
        },
        "outputId": "57f5d481-45ba-4d3f-930d-f53c9a2ea1c3"
      },
      "outputs": [
        {
          "output_type": "stream",
          "name": "stdout",
          "text": [
            "[2, 4, 10, 20, 5, 2, 20, 4]\n",
            "[13, 2, 25, 20, 4, 8]\n",
            "[2, 4, 10, 20, 5]\n",
            "[13, 2, 25, 20, 4, 8]\n",
            "[2, 4, 10, 20, 5, 13, 25, 8]\n"
          ]
        }
      ],
      "source": [
        "\"\"\"\n",
        "Lists with Duplicates\n",
        "\"\"\"\n",
        "\n",
        "# First, print list a below as it is now.\n",
        "\n",
        "a = [2, 4, 10, 20, 5, 2, 20, 4]\n",
        "b = [13, 2, 25, 20, 4, 8]\n",
        "print(a)\n",
        "print(b)\n",
        "# Using a loop, remove the duplicate items from list a and print out the updated list.\n",
        "\n",
        "unique_a = []\n",
        "for item in a:\n",
        "  if item not in unique_a:\n",
        "    unique_a.append(item)\n",
        "print(unique_a)\n",
        "\n",
        "unique_b = []\n",
        "for num in b:\n",
        "  if num not in unique_b:\n",
        "    unique_b.append(num)\n",
        "\n",
        "print(unique_b)\n",
        "\n",
        "# Using a loop, merge list b into list a without adding any duplicates.\n",
        "\n",
        "total_unique = []\n",
        "for val in unique_a + unique_b : #combine the two lists\n",
        "  if val not in total_unique: # Check if the value is already in the total unique list\n",
        "    total_unique.append(val) # add the value to the unique list\n",
        "\n",
        "print(total_unique)"
      ]
    },
    {
      "cell_type": "markdown",
      "metadata": {
        "id": "p_TT-76OF_LH"
      },
      "source": [
        "\n",
        "\n",
        "### P3.PY\n",
        "\n",
        "\n"
      ]
    },
    {
      "cell_type": "code",
      "execution_count": null,
      "metadata": {
        "id": "ZhStTA4gF_LI",
        "colab": {
          "base_uri": "https://localhost:8080/"
        },
        "outputId": "5af3f1b2-7f28-4759-bde0-67a015e73e16"
      },
      "outputs": [
        {
          "output_type": "stream",
          "name": "stdout",
          "text": [
            "{71.6: 22.0, 82.4: 28.0, 91.4: 33.0, 107.6: 42.0, 125.6: 52.0}\n"
          ]
        }
      ],
      "source": [
        "\"\"\"\n",
        "Temperature Conversions\n",
        "\"\"\"\n",
        "\n",
        "# You're studying climate change, and over the last 3 years, you've recorded the temperature at noon every day in degrees Fahrenheit (F). The var sampleF holds a portion of those recordings.\n",
        "\n",
        "sampleF = [71.6, 82.4, 91.4, 107.6, 125.6]\n",
        "\n",
        "# Convert each item in this list into degrees Celsius and add the results to a dict called sample_temps so that the conversion of each day's temperature is easily accessible. For reference, the conversion equation between F and C is:\n",
        "# Celsius = (Fahrenheit - 32) * 5.0/9.0\n",
        "\n",
        "sample_temps = {}\n",
        "\n",
        "for temp_f in sampleF: #create loop to pull out individual F temps\n",
        "  temp_c = (temp_f - 32) * 5.0/9 # Convert F to Celsisus equivolent\n",
        "  sample_temps[temp_f]=round(temp_c,2) #add these items to a dictionary rounding C temps to 2 decimal places\n",
        "\n",
        "print(sample_temps)\n",
        "# sample_temps =\n",
        "\n"
      ]
    },
    {
      "cell_type": "markdown",
      "metadata": {
        "id": "52kv_h_MF_LI"
      },
      "source": [
        "\n",
        "\n",
        "### P4.PY\n",
        "\n",
        "\n"
      ]
    },
    {
      "cell_type": "code",
      "execution_count": null,
      "metadata": {
        "id": "U4GETLhhF_LJ",
        "colab": {
          "base_uri": "https://localhost:8080/"
        },
        "outputId": "001e2de6-3931-447e-8acf-b1775ac01b13"
      },
      "outputs": [
        {
          "output_type": "stream",
          "name": "stdout",
          "text": [
            "16\n",
            "20922789888000\n",
            "1*2*3*4*5*6*7*8*9*10*11*12*13*14*15*16\n"
          ]
        }
      ],
      "source": [
        "\"\"\"\n",
        "Factorial\n",
        "\"\"\"\n",
        "\n",
        "# Find the factorial of a number input by a user. Then print out the factors within the factorial and then print out the actual numeric answer. Hint: The formula for a factorial is n! = (n-1)*n.\n",
        "\n",
        "\n",
        "# Example output:\n",
        "\"\"\"\n",
        "8! = 8*7*6*5*4*3*2*1\n",
        "8! = 40320\n",
        "\"\"\"\n",
        "n = 16 #Number input\n",
        "factorial = 1\n",
        "factorial_str = \"\"\n",
        "\n",
        "for num in range(1,n + 1):\n",
        "  factorial *= num\n",
        "  factorial_str += str(num)\n",
        "  if num != n:\n",
        "    factorial_str += \"*\"\n",
        "print(n)\n",
        "print(factorial)\n",
        "print(factorial_str)\n",
        "\n"
      ]
    },
    {
      "cell_type": "markdown",
      "metadata": {
        "id": "zfGW0jcTF_LL"
      },
      "source": [
        "\n",
        "\n",
        "### P5.PY\n",
        "\n",
        "\n"
      ]
    },
    {
      "cell_type": "code",
      "execution_count": null,
      "metadata": {
        "id": "SWxjrZljF_LL"
      },
      "outputs": [],
      "source": [
        "\"\"\"\n",
        "Factors\n",
        "\"\"\"\n",
        "\n",
        "# Find all factors of a number that a user inputs and print out 'The factors of <the_user_input_number> are: '.\n",
        "\n",
        "user_input = input(4)\n",
        "\n",
        "# Initialize an empty list to store the factors\n",
        "factors = []\n",
        "\n",
        "# Find factors of the user input number\n",
        "for i in range(1, int(user_input) + 1):\n",
        "    if user_input % i == 0:\n",
        "        factors.append(i)\n",
        "\n",
        "# Print the factors\n",
        "print(f\"The factors of {user_input} are:\", factors)\n"
      ]
    },
    {
      "cell_type": "markdown",
      "metadata": {
        "id": "gNOpTnHYF_LN"
      },
      "source": [
        "\n",
        "\n",
        "### P6.PY\n",
        "\n",
        "\n"
      ]
    },
    {
      "cell_type": "markdown",
      "source": [],
      "metadata": {
        "id": "jNHkjgkV6JQ2"
      }
    },
    {
      "cell_type": "code",
      "execution_count": null,
      "metadata": {
        "id": "Lh7_tCo5F_LN"
      },
      "outputs": [],
      "source": [
        "\"\"\"\n",
        "GCD\n",
        "\"\"\"\n",
        "\n",
        "# Find the greatest common denominator (GCD) of two number input by a user. Then print out 'The GCD of <first number> and <second number> is <your result>.'\n",
        "# Function to calculate the greatest common divisor (GCD)\n",
        "def gcd(a, b):\n",
        "    while b:\n",
        "        a, b = b, a % b\n",
        "    return a\n",
        "\n",
        "print('Enter two numbers to find their greatest common denominator.')\n",
        "\n",
        "user_input1 = input('First number: ')\n",
        "user_input2 = input('Second number: ')"
      ]
    },
    {
      "cell_type": "markdown",
      "metadata": {
        "id": "ZroLcdpcF_LN"
      },
      "source": [
        "\n",
        "\n",
        "## DICT_LOOPS\n",
        "\n",
        "### P1.PY\n",
        "\n",
        "\n"
      ]
    },
    {
      "cell_type": "code",
      "execution_count": null,
      "metadata": {
        "id": "aWMfFc0SF_LO",
        "colab": {
          "base_uri": "https://localhost:8080/"
        },
        "outputId": "370ded71-9d4f-44cf-bfcb-43a1bb1e019c"
      },
      "outputs": [
        {
          "output_type": "stream",
          "name": "stdout",
          "text": [
            "{'Jamie': '11921680143', 'Kartik': '18372091121', 'Grant': '18263861758', 'Brandon': '19352979447', 'Monique': '17027165353', 'Sohom': '15766196100'}\n"
          ]
        }
      ],
      "source": [
        "\"\"\"\n",
        "Contacts\n",
        "\"\"\"\n",
        "\n",
        "# You went to a conference and got people to sign up for text updates from your startup. Go through this dict to make the phone numbers readable to a computer.\n",
        "\n",
        "# Hint: It can't include any non-numeric\n",
        "# characters.\n",
        "\n",
        "contacts = {\n",
        "\t'Jamie': '1.192.168.0143',\n",
        "\t'Kartik': '1.837.209.1121',\n",
        "\t'Grant': '1.826.386.1758',\n",
        "\t'Brandon': '1.935.297.9447',\n",
        "\t'Monique': '1.702.716.5353',\n",
        "\t'Sohom': '1.576.619.6100',\n",
        "}\n",
        "# Remove dots from phone numbers\n",
        "for name, number in contacts.items():\n",
        "    contacts[name] = number.replace('.', '')\n",
        "\n",
        "# Updated contacts without dots\n",
        "print(contacts)"
      ]
    },
    {
      "cell_type": "markdown",
      "metadata": {
        "id": "9geKXF33F_LO"
      },
      "source": [
        "\n",
        "\n",
        "### P2.PY\n",
        "\n",
        "\n"
      ]
    },
    {
      "cell_type": "code",
      "execution_count": null,
      "metadata": {
        "id": "DFCoFlvIF_LO",
        "colab": {
          "base_uri": "https://localhost:8080/"
        },
        "outputId": "7a014cc2-9ed8-4f7f-b495-4a436d402ad9"
      },
      "outputs": [
        {
          "output_type": "stream",
          "name": "stdout",
          "text": [
            "{'Ashton': 82.25, 'Sierra': 100.0, 'Zach': 66.0, 'Manuel': 94.0, 'Felicia': 91.25, 'Ankur': 78.5, 'Ananya': 92.75, 'Nick': 85.5, 'Olivia': 82.0, 'Molly': 79.75}\n",
            "{'Ashton': 'B', 'Sierra': 'A', 'Zach': 'D', 'Manuel': 'A', 'Felicia': 'A', 'Ankur': 'C', 'Ananya': 'A', 'Nick': 'B', 'Olivia': 'B', 'Molly': 'C'}\n",
            "['Sierra', 'Manuel', 'Felicia', 'Ananya']\n"
          ]
        }
      ],
      "source": [
        "\"\"\"\n",
        "Grades\n",
        "\"\"\"\n",
        "# Here's a dict containing students' grades from the semester's assignments.\n",
        "\n",
        "students = {\n",
        "  'Ashton': [86, 45, 98, 100],\n",
        "  'Sierra': [100, 100, 100, 100],\n",
        "  'Zach': [38, 49, 90, 87],\n",
        "  'Manuel': [98, 92, 86, 100],\n",
        "  'Felicia': [94, 87, 89, 95],\n",
        "  'Ankur': [75, 77, 77, 85],\n",
        "  'Ananya': [98, 94, 87, 92],\n",
        "  'Nick': [79, 84, 89, 90],\n",
        "  'Olivia': [83, 91, 69, 85],\n",
        "  'Molly': [83, 74, 72, 90]\n",
        "}\n",
        "\n",
        "# p 1.1) Create a dict called num_grades to store each student's average numerical grade for the semester.\n",
        "\n",
        "# num_grades =\n",
        "num_grades = {}\n",
        "\n",
        "for student, grades in students.items():\n",
        "    average_grade = sum(grades) / len(grades)\n",
        "    num_grades[student] = average_grade\n",
        "\n",
        "print(num_grades)\n",
        "\n",
        "\n",
        "\n",
        "# p 1.2) Create a dict called letter_grades to store each student's final letter grade for the semester. Use A, B, C, D, and F as grades per the standard grading scale.\n",
        "\n",
        "letter_grades = {}\n",
        "\n",
        "for student, grades in students.items():\n",
        "    average_grade = sum(grades) / len(grades)\n",
        "    if average_grade >= 90:\n",
        "        letter_grades[student] = 'A'\n",
        "    elif average_grade >= 80:\n",
        "        letter_grades[student] = 'B'\n",
        "    elif average_grade >= 70:\n",
        "        letter_grades[student] = 'C'\n",
        "    elif average_grade >= 60:\n",
        "        letter_grades[student] = 'D'\n",
        "    else:\n",
        "        letter_grades[student] = 'F'\n",
        "\n",
        "print(letter_grades)# letter_grades =\n",
        "\n",
        "\n",
        "\n",
        "# p 1.3) Create a list of honor roll students (i.e. students who got A's).\n",
        "\n",
        "honor_roll = [student for student, grade in letter_grades.items() if grade == 'A']\n",
        "print(honor_roll)\n",
        "\n"
      ]
    },
    {
      "cell_type": "markdown",
      "metadata": {
        "id": "lO7mrDS1F_LO"
      },
      "source": [
        "\n",
        "\n",
        "### P3.PY\n",
        "\n",
        "\n"
      ]
    },
    {
      "cell_type": "code",
      "execution_count": null,
      "metadata": {
        "id": "rT27HeTPF_LO"
      },
      "outputs": [],
      "source": [
        "\"\"\"\n",
        "Price Inventory\n",
        "\"\"\"\n",
        "\n",
        "# Imagine you're the owner of an Italian restaurant. You're evaluating your pricing to make sure it's up to date with the latest costs of making each menu item (see the menu prices and costs dicts below). Evaluate whether each item's price returns a profit margin of at least $1.00. If it doesn't, update the menu_prices dict with a new price that gives the item a $1.00 profit margin. Then print out the items which you've repriced in a new dict called price_increases.\n",
        "\n",
        "menu_prices = {\n",
        "\t'fettuccine bolognese': 14.99,\n",
        "\t'gnocchi gorgonzola': 10.99,\n",
        "\t'chicken parmigiano': 13.99,\n",
        "\t'butternut squash risotto': 9.99,\n",
        "\t'spaghetti carbonara': 12.99,\n",
        "\t'pizza margherita': 12.99,\n",
        "\t'chicken marsala': 13.99\n",
        "}\n",
        "\n",
        "menu_costs = {\n",
        "\t'fettuccine bolognese': 12.50,\n",
        "\t'gnocchi gorgonzola': 11.25,\n",
        "\t'chicken parmigiano': 11.75,\n",
        "\t'butternut squash risotto': 6.33,\n",
        "\t'spaghetti carbonara': 12.90,\n",
        "\t'pizza margherita': 14.00,\n",
        "\t'chicken marsala': 11.75\n",
        "}\n",
        "\n",
        "price_increases = {}\n",
        "\n",
        "for item, price in menu_prices.items():\n",
        "    cost = menu_costs[item]\n",
        "    profit_margin = price - cost\n",
        "    if profit_margin < 1.00:\n",
        "        new_price = cost + 1.00\n",
        "        menu_prices[item] = new_price\n",
        "        price_increases[item] = new_price\n",
        "\n",
        "print(\"Items with repriced prices:\")\n",
        "for item, new_price in price_increases.items():\n",
        "    print(f\"{item}: ${new_price}\")\n",
        "\n",
        "print(\"\\nUpdated menu prices:\")\n",
        "print(menu_prices)\n"
      ]
    },
    {
      "cell_type": "markdown",
      "metadata": {
        "id": "vaFzXgzoF_LP"
      },
      "source": [
        "\n",
        "\n",
        "## CONTROL_FLOW\n",
        "\n",
        "### P1.PY\n",
        "\n",
        "\n"
      ]
    },
    {
      "cell_type": "code",
      "execution_count": null,
      "metadata": {
        "id": "inwy8-fNF_LP"
      },
      "outputs": [],
      "source": [
        "\"\"\"\n",
        "Control Flow - I\n",
        "\"\"\"\n",
        "\n",
        "# Print the numbers in the range (5:12) until you find a factor of 4. If the range the user enters contains no factors of 4, print \"There are no factors of 4 in this interval.\"\n",
        "# HINT: for the range 5,12 there will likely be multiples of 4 present - to assert the final requirement, try changing range boundaries\n",
        "\n",
        "# Ask the user to input the start and end of the range\n",
        "start = int(input(\"Enter the start of the range: \"))\n",
        "end = int(input(\"Enter the end of the range: \"))\n",
        "\n",
        "# Assume we haven't found any factor of 4 yet\n",
        "found_factor_of_4 = False\n",
        "\n",
        "# Loop through each number in the range\n",
        "for num in range(start, end + 1):\n",
        "    # Check if the current number is a factor of 4\n",
        "    if num % 4 == 0:\n",
        "        # If it is, print the number\n",
        "        print(num)\n",
        "        # Update the flag to indicate that we found a factor of 4\n",
        "        found_factor_of_4 = True\n",
        "        # Exit the loop because we only need to find one factor of 4\n",
        "        break\n",
        "\n",
        "# Check if we didn't find any factor of 4 in the range\n",
        "if not found_factor_of_4:\n",
        "    # If so, print a message indicating that\n",
        "    print(\"There are no factors of 4 in this interval.\")\n"
      ]
    },
    {
      "cell_type": "markdown",
      "metadata": {
        "id": "CRAa1EnMF_LP"
      },
      "source": [
        "\n",
        "\n",
        "### P2.PY\n",
        "\n",
        "\n"
      ]
    },
    {
      "cell_type": "code",
      "execution_count": null,
      "metadata": {
        "id": "V-4DpbaqF_LP",
        "colab": {
          "base_uri": "https://localhost:8080/"
        },
        "outputId": "d6cbe64f-2808-46c1-84e4-ac207f3f5978"
      },
      "outputs": [
        {
          "output_type": "stream",
          "name": "stdout",
          "text": [
            "0\n",
            "1\n",
            "2\n",
            "4\n",
            "5\n"
          ]
        }
      ],
      "source": [
        "\"\"\"\n",
        "Control Flow II\n",
        "\"\"\"\n",
        "\n",
        "# Write a Python program that prints all the numbers from 0 to 6 except 3 and 6. Note : Use 'continue' statement.\n",
        "# Iterate through numbers from 0 to 6\n",
        "for num in range(7):\n",
        "    # Check if the number is 3 or 6\n",
        "    if num == 3 or num == 6:\n",
        "        # If it is, skip to the next iteration\n",
        "        continue\n",
        "    # Print the number if it's not 3 or 6\n",
        "    print(num)\n"
      ]
    },
    {
      "cell_type": "markdown",
      "metadata": {
        "id": "-rDhAub7F_LP"
      },
      "source": [
        "\n",
        "\n",
        "## SHAPES\n",
        "\n",
        "### P1.PY\n",
        "\n",
        "\n"
      ]
    },
    {
      "cell_type": "code",
      "execution_count": null,
      "metadata": {
        "id": "RxrGBTZ6F_LP",
        "colab": {
          "base_uri": "https://localhost:8080/"
        },
        "outputId": "05ca0aa0-b412-4b72-d433-768c29754f54"
      },
      "outputs": [
        {
          "output_type": "stream",
          "name": "stdout",
          "text": [
            "*\n",
            "**\n",
            "***\n",
            "****\n",
            "*****\n"
          ]
        }
      ],
      "source": [
        "\"\"\"\n",
        "Build a Triangle\n",
        "\"\"\"\n",
        "\n",
        "# Use a while loop to print a 5-level triangle of stars that looks like this:\n",
        "\n",
        "\"\"\"\n",
        "*\n",
        "**\n",
        "***\n",
        "****\n",
        "*****\n",
        "\"\"\"\n",
        "level = 1\n",
        "# Use a while loop to print the triangle\n",
        "while level <= 5:\n",
        "    print('*' * level)  # Print '*' repeated 'level' times\n",
        "    level += 1  # Increment the level for the next iteration\n"
      ]
    },
    {
      "cell_type": "markdown",
      "metadata": {
        "id": "ZwmZbr50F_LP"
      },
      "source": [
        "\n",
        "\n",
        "### P2.PY\n",
        "\n",
        "\n"
      ]
    },
    {
      "cell_type": "code",
      "execution_count": null,
      "metadata": {
        "id": "LRKz3fpGF_LQ"
      },
      "outputs": [],
      "source": [
        "\"\"\"\n",
        "Build a Pyramid\n",
        "\"\"\"\n",
        "\n",
        "# Use a while loop to print a pyramid of stars that looks like this:\n",
        "\n",
        "\"\"\"\n",
        "    *\n",
        "   ***\n",
        "  *****\n",
        " *******\n",
        "*********\n",
        "\"\"\"\n",
        "# Set the initial number of spaces and stars\n",
        "spaces = 4\n",
        "stars = 1\n",
        "\n",
        "# Use a while loop to print the pyramid\n",
        "while stars <= 9:\n",
        "    print(' ' * spaces + '*' * stars)  # Print spaces and stars\n",
        "    spaces -= 1  # Decrement spaces by 1\n",
        "    stars += 2   # Increment stars by 2\n"
      ]
    },
    {
      "cell_type": "markdown",
      "metadata": {
        "id": "W3VY3OJGF_LQ"
      },
      "source": [
        "\n",
        "\n",
        "### P3.PY\n",
        "\n",
        "\n"
      ]
    },
    {
      "cell_type": "code",
      "execution_count": null,
      "metadata": {
        "id": "3nMpDIQBF_LQ"
      },
      "outputs": [],
      "source": [
        "\"\"\"\n",
        "Build a Diamond\n",
        "\"\"\"\n",
        "\n",
        "# Use a while loop to print a diamond of stars that looks like this:\n",
        "\n",
        "\"\"\"\n",
        "    *\n",
        "   ***\n",
        "  *****\n",
        " *******\n",
        "*********\n",
        " *******\n",
        "  *****\n",
        "   ***\n",
        "    *\n",
        "\"\"\"\n",
        "# Upper half of the diamond\n",
        "spaces = 4\n",
        "stars = 1\n",
        "while stars <= 9:\n",
        "    print(' ' * spaces + '*' * stars)\n",
        "    spaces -= 1\n",
        "    stars += 2\n",
        "\n",
        "# Lower half of the diamond\n",
        "spaces = 1\n",
        "stars = 7\n",
        "while stars >= 1:\n",
        "    print(' ' * spaces + '*' * stars)\n",
        "    spaces += 1\n",
        "    stars -= 2"
      ]
    },
    {
      "cell_type": "markdown",
      "metadata": {
        "id": "jJB9cmfEF_LQ"
      },
      "source": [
        "\n",
        "\n",
        "## LOOP_CHALLENGES\n",
        "\n",
        "### P1.PY\n",
        "\n",
        "\n"
      ]
    },
    {
      "cell_type": "code",
      "execution_count": null,
      "metadata": {
        "id": "qXhsgjuXF_LQ"
      },
      "outputs": [],
      "source": [
        "\"\"\"\n",
        "Valid Passwords\n",
        "\"\"\"\n",
        "\n",
        "# Check the validity of password input by users based on the below security requirements: At least 1 letter between [a-z] and 1 letter between [A-Z].\n",
        "\"\"\"\n",
        "# At least 1 letter between [a-z] and 1 letter between [A-Z].\n",
        "#At least 1 number between [0-9].\n",
        "At least 1 character from [$#@].\n",
        "Minimum length 6 characters.\n",
        "Maximum length 16 characters.\n",
        "\"\"\"\n",
        "\n",
        "\n",
        "# Hint: Look up the documentation for the \"re\" library and it's \".search()\" method.\n",
        "\n",
        "# p = input(\"Input your password: \")"
      ]
    },
    {
      "cell_type": "markdown",
      "metadata": {
        "id": "H9egd0v1F_LQ"
      },
      "source": [
        "\n",
        "\n",
        "### P2.PY\n",
        "\n",
        "\n"
      ]
    },
    {
      "cell_type": "code",
      "execution_count": null,
      "metadata": {
        "id": "nEqpl03ZF_LQ"
      },
      "outputs": [],
      "source": [
        "\"\"\"\n",
        "Prime Numbers I\n",
        "\"\"\"\n",
        "\n",
        "# Check if a number input by a user is prime or not. If it is NOT a prime number, print out that it is not a prime number. If it IS a prime number, print out that it is a prime number and give an example of two of its factors. Hint: Prime numbers must be greater than 1.\n",
        "\n",
        "# Example of output for a NON-prime:\n",
        "# 12 is not a prime number\n",
        "# For example, 2 x 6 = 12\n",
        "\n",
        "\n",
        "\n",
        "# user_input = input(\"Enter a number to check if it's prime: \")\n",
        "\n"
      ]
    },
    {
      "cell_type": "markdown",
      "metadata": {
        "id": "EYsIzKNuF_LR"
      },
      "source": [
        "\n"
      ]
    }
  ],
  "metadata": {
    "colab": {
      "provenance": []
    },
    "language_info": {
      "name": "python"
    },
    "kernelspec": {
      "name": "python3",
      "display_name": "Python 3"
    }
  },
  "nbformat": 4,
  "nbformat_minor": 0
}