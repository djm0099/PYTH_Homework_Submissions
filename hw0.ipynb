{
  "cells": [
    {
      "cell_type": "markdown",
      "metadata": {
        "id": "KK1dDVO3PDhJ"
      },
      "source": [
        "<a href=\"https://colab.research.google.com/github/mottaquikarim/PYTH2/blob/master/src/PSETS/nb/basic_data_inclass_psets.ipynb\" target=\"_parent\"><img src=\"https://colab.research.google.com/assets/colab-badge.svg\" alt=\"Open In Colab\"/></a>"
      ]
    },
    {
      "cell_type": "markdown",
      "metadata": {
        "id": "P-LdTT1uPDhK"
      },
      "source": [
        "#  BASIC DATA TYPES\n",
        "\n",
        "## BASICS\n",
        "\n",
        "### P1.PY\n",
        "\n",
        "\n"
      ]
    },
    {
      "cell_type": "code",
      "execution_count": 1,
      "metadata": {
        "colab": {
          "base_uri": "https://localhost:8080/"
        },
        "id": "cFZiLaXkNoV_",
        "outputId": "65d16234-125c-4fd6-beef-e340eb2f7613"
      },
      "outputs": [
        {
          "output_type": "stream",
          "name": "stdout",
          "text": [
            " \n"
          ]
        }
      ],
      "source": [
        "\"\"\"\n",
        "Placeholders\n",
        "\"\"\"\n",
        "\n",
        "# You're writing a program, and you don't know what your starting value for your 'initial' variable is yet. The program won't run if you leave it blank, but you don't want to forget you need it! Make a workaround.\n",
        "initial  = \" \"\n",
        "print(initial)"
      ]
    },
    {
      "cell_type": "markdown",
      "source": [],
      "metadata": {
        "id": "8Q9_K08dPU5f"
      }
    },
    {
      "cell_type": "markdown",
      "metadata": {
        "id": "pVhm949rPDhL"
      },
      "source": [
        "\n",
        "\n",
        "### P2.PY\n",
        "\n",
        "\n"
      ]
    },
    {
      "cell_type": "code",
      "execution_count": null,
      "metadata": {
        "colab": {
          "base_uri": "https://localhost:8080/"
        },
        "id": "8mi3XgzsNoWA",
        "outputId": "3ac7a099-38e6-45d0-8243-a7baf9d3f384"
      },
      "outputs": [
        {
          "output_type": "stream",
          "name": "stdout",
          "text": [
            "15\n",
            "blue\n"
          ]
        }
      ],
      "source": [
        "\"\"\"\n",
        "Basic Variables\n",
        "\"\"\"\n",
        "\n",
        "# Create a variable that represents your favorite number, and add a note to remind yourself what this variable represents. Now print it out without re-typing the number.\n",
        "fav_number = 15 #This was my favorite number because of baseball\n",
        "print(fav_number)\n",
        "\n",
        "\n",
        "# Create another variable that represents your favorite color, and do the same steps as above.\n",
        "\n",
        "fav_color = \"blue\"  #Blue is my favorite color\n",
        "print(fav_color)"
      ]
    },
    {
      "cell_type": "markdown",
      "metadata": {
        "id": "GZVKNWIDPDhL"
      },
      "source": [
        "\n",
        "\n",
        "### P3.PY\n",
        "\n",
        "\n"
      ]
    },
    {
      "cell_type": "code",
      "execution_count": null,
      "metadata": {
        "colab": {
          "base_uri": "https://localhost:8080/"
        },
        "id": "jkvhVzydNoWB",
        "outputId": "20e965d1-ee6f-4bb1-f72b-40ea924f99cc"
      },
      "outputs": [
        {
          "output_type": "stream",
          "name": "stdout",
          "text": [
            "Coming out of my cage and I've been doing just fine\n"
          ]
        }
      ],
      "source": [
        "\"\"\"\n",
        "String Formatting\n",
        "\"\"\"\n",
        "\n",
        "# Create a variable that contains the first 4 lines of your favorite song. Add a comment that includes the song title and artist **each on their own line**! Now print out this variable.\n",
        "lyric = \"Coming out of my cage and I've been doing just fine\"\n",
        "# Mr Brightside\n",
        "# The Killers\n",
        "\n",
        "print(lyric)"
      ]
    },
    {
      "cell_type": "markdown",
      "metadata": {
        "id": "XK0OWoITPDhM"
      },
      "source": [
        "\n",
        "\n",
        "## TYPECASTING\n",
        "\n",
        "### P1.PY\n",
        "\n",
        "\n"
      ]
    },
    {
      "cell_type": "code",
      "execution_count": 27,
      "metadata": {
        "colab": {
          "base_uri": "https://localhost:8080/"
        },
        "outputId": "259efc4e-969f-4d96-de3f-398b2be8ffdc",
        "id": "aga5cNFESVvH"
      },
      "outputs": [
        {
          "output_type": "stream",
          "name": "stdout",
          "text": [
            "5.0 0.0 -8.0 -22.0\n",
            "<class 'float'> <class 'float'> <class 'float'> <class 'float'>\n",
            "5 0 -8 -22\n",
            "<class 'int'> <class 'int'> <class 'int'> <class 'int'>\n"
          ]
        }
      ],
      "source": [
        "\"\"\"\n",
        "Typcasting w. Integers & Floats\n",
        "\"\"\"\n",
        "\n",
        "# Convert these numbers into floats and back. Print out each result as well as its data type.\n",
        "\n",
        "five = 5\n",
        "zero = 0\n",
        "neg_8 = -8\n",
        "neg_22 = -22\n",
        "\n",
        "float_5 = float(five)\n",
        "float_0 = float(zero)\n",
        "float_neg_8 = float(neg_8)\n",
        "float_neg_22 = float(neg_22)\n",
        "\n",
        "print(float_5,float_0,float_neg_8,float_neg_22)\n",
        "print(type(float_5),type(float_0),type(float_neg_8),type(float_neg_22))\n",
        "\n",
        "five_int = int(float_5)\n",
        "zero_int = int(float_0)\n",
        "neg_8_int = int(float_neg_8)\n",
        "neg_22_int = int(float_neg_22)\n",
        "\n",
        "print(five_int,zero_int,neg_8_int,neg_22_int)\n",
        "print(type(five_int),type(zero_int),type(neg_8_int),type(neg_22_int))\n",
        "\n",
        "\n",
        "\n",
        "\n"
      ]
    },
    {
      "cell_type": "markdown",
      "metadata": {
        "id": "qwwvcobaPDhM"
      },
      "source": [
        "\n",
        "\n",
        "### P2.PY\n",
        "\n",
        "\n"
      ]
    },
    {
      "cell_type": "code",
      "execution_count": 55,
      "metadata": {
        "id": "EnjvKv0SPDhM",
        "colab": {
          "base_uri": "https://localhost:8080/"
        },
        "outputId": "6935b1a4-f59b-40fa-8ced-267cd5b04903"
      },
      "outputs": [
        {
          "output_type": "stream",
          "name": "stdout",
          "text": [
            "5 <class 'str'>\n",
            "0 <class 'str'>\n",
            "-8 <class 'str'>\n",
            "True <class 'str'>\n",
            "False <class 'str'>\n",
            "5 <class 'int'>\n",
            "0 <class 'int'>\n",
            "-8 <class 'int'>\n",
            "True <class 'bool'>\n",
            "True <class 'bool'>\n"
          ]
        }
      ],
      "source": [
        "\"\"\"\n",
        "Typcasting w. Strings\n",
        "\"\"\"\n",
        "\n",
        "# Convert these variables into strings and then back to their original data types. Print out each result as well as its data type. What do you notice about the last one?\n",
        "\n",
        "five = 5\n",
        "zero = 0\n",
        "neg_8 = -8\n",
        "T = True\n",
        "F = False\n",
        "\n",
        "\n",
        "#Converting all the variables to strings using str(variable)\n",
        "string_5 = str(five)\n",
        "string_0 = str(zero)\n",
        "string_neg_8 = str(neg_8)\n",
        "string_T = str(T)\n",
        "string_F = str(F)\n",
        "\n",
        "\n",
        "#Printing all the variables as strings and displaying the datatype which will be string\n",
        "print(string_5,type(string_5))\n",
        "print(string_0,type(string_0))\n",
        "print(string_neg_8,type(string_neg_8))\n",
        "print(string_T,type(string_T))\n",
        "print(string_F,type(string_F))\n",
        "\n",
        "\n",
        "#Converting the string variables back into their orginal datatype\n",
        "int_5 = int(string_5)\n",
        "int_0 = int(string_0)\n",
        "int_neg_8 = int(string_neg_8)\n",
        "bool_T = bool(string_T)\n",
        "bool_F = bool(string_F)\n",
        "\n",
        "#Printing the orinal variables again with their original data types after converting them from strings\n",
        "print(int_5,type(int_5))\n",
        "print(int_0,type(int_0))\n",
        "print(int_neg_8,type(int_neg_8))\n",
        "print(bool_T,type(bool_T))\n",
        "print(bool_F,type(bool_F))"
      ]
    },
    {
      "cell_type": "markdown",
      "metadata": {
        "id": "sge7ks-KPDhN"
      },
      "source": [
        "\n",
        "\n",
        "### P3.PY\n",
        "\n",
        "\n"
      ]
    },
    {
      "cell_type": "code",
      "execution_count": 76,
      "metadata": {
        "id": "DrM7dIkBPDhN",
        "colab": {
          "base_uri": "https://localhost:8080/"
        },
        "outputId": "2d0e9a66-f360-47de-f3ea-126d30f8914a"
      },
      "outputs": [
        {
          "output_type": "stream",
          "name": "stdout",
          "text": [
            "True <class 'bool'> False <class 'bool'>\n",
            "1.0 <class 'float'> 0.0 <class 'float'>\n",
            "True <class 'bool'> False <class 'bool'>\n",
            "1 <class 'int'> 0 <class 'int'>\n",
            "True <class 'bool'>\n"
          ]
        }
      ],
      "source": [
        "\"\"\"\n",
        "Booleans I - Typecasting w. Numbers\n",
        "\"\"\"\n",
        "\n",
        "# A) Use typecasting to turn these variables into boolean values. Print the result and the datatype of the result.\n",
        "\n",
        "one = 1\n",
        "zero = 0\n",
        "one_bool = bool(one)\n",
        "zero_bool = bool(zero)\n",
        "print(one_bool,type(one_bool),zero_bool,type(zero_bool))\n",
        "\n",
        "# B) Use typecasting to turn the resultant variables from part A into floats. Print the result and the datatype of the result.\n",
        "one_float = float(one_bool)\n",
        "zero_float = float(zero_bool)\n",
        "\n",
        "print(one_float,type(one_float),zero_float,type(zero_float))\n",
        "\n",
        "# C) Use typecasting to turn the resultant variables from part B back into booleans. Print the result and the datatype of the result.\n",
        "one_bool_back = bool(one_float)\n",
        "zero_bool_back = bool(zero_float)\n",
        "\n",
        "print(one_bool_back,type(one_bool_back),zero_bool_back,type(zero_bool_back))\n",
        "\n",
        "\n",
        "# C) Use typecasting to turn the resultant variables from part C into integers. Print the result and the datatype of the result.\n",
        "one_int_back = int(one_bool_back)\n",
        "zero_int_back = int(zero_bool_back)\n",
        "print(one_int_back,type(one_int_back),zero_int_back,type(zero_int_back))\n",
        "\n",
        "# E) Use typecasting to turn the variable below into a boolean value. Print the result and the datatype of the result.\n",
        "\n",
        "ten = 10\n",
        "bool_10 = bool(ten)\n",
        "print(bool_10,type(bool_10))\n",
        "\n"
      ]
    },
    {
      "cell_type": "markdown",
      "metadata": {
        "id": "eoxgIZ4qPDhN"
      },
      "source": [
        "\n",
        "\n",
        "### P4.PY\n",
        "\n",
        "\n"
      ]
    },
    {
      "cell_type": "code",
      "execution_count": 15,
      "metadata": {
        "id": "MkvBfLLZPDhN",
        "colab": {
          "base_uri": "https://localhost:8080/"
        },
        "outputId": "64894245-ad3a-40cf-975b-c1e780d619f8"
      },
      "outputs": [
        {
          "output_type": "stream",
          "name": "stdout",
          "text": [
            "True <class 'bool'>\n",
            "False <class 'bool'>\n",
            "True <class 'bool'>\n",
            "False <class 'bool'>\n",
            "1 <class 'int'> 0 <class 'int'>\n",
            "True <class 'bool'> False <class 'bool'>\n"
          ]
        }
      ],
      "source": [
        "\"\"\"\n",
        "Booleans II - Typecasting w. Strings\n",
        "\"\"\"\n",
        "\n",
        "# A) Use typecasting to turn these variables into boolean values. Print the result and the datatype of the result.\n",
        "\n",
        "one = 1\n",
        "zero = 0\n",
        "bool_true = True\n",
        "bool_false = False\n",
        "\n",
        "bool_one = bool(one)\n",
        "bool_zero = bool(zero)\n",
        "bol_true = bool(bool_true)\n",
        "bol_false = bool(bool_false)\n",
        "\n",
        "print(bool_one,type(bool_one))\n",
        "print(bool_zero,type(bool_zero))\n",
        "print(bol_true,type(bol_true))\n",
        "print(bol_false,type(bol_false))\n",
        "\n",
        "\n",
        "# B) Use typecasting to turn the latest values for variables 'one' and 'zero' back into integers. Print the result and the datatype of the result.\n",
        "one_ = int(bool_one)\n",
        "zero_ = int(bool_zero)\n",
        "print(one_,type(one_),zero_,type(zero_))\n",
        "\n",
        "\n",
        "# C) Use typecasting to turn the latest values for variables 'bool_true' and 'bool_false' back into boolean values. Print the result and the datatype of the result.\n",
        "\n",
        "new_bool_1 = bool(bool_one)\n",
        "new_bool_0 = bool(bool_zero)\n",
        "print(new_bool_1,type(new_bool_1),new_bool_0,type(new_bool_0))\n"
      ]
    },
    {
      "cell_type": "markdown",
      "metadata": {
        "id": "diCmE4KRPDhN"
      },
      "source": [
        "\n",
        "\n",
        "## OPERATORS\n",
        "\n",
        "### P1.PY\n",
        "\n",
        "\n"
      ]
    },
    {
      "cell_type": "code",
      "execution_count": 16,
      "metadata": {
        "id": "hjm87THTPDhN"
      },
      "outputs": [],
      "source": [
        "\"\"\"\n",
        "Integer & Float Operators\n",
        "\"\"\"\n",
        "\n",
        "# Complete the specified math operations. Do the next operation on the result from the previous operation.\n",
        "\n",
        "orig_var = 100\n",
        "\n",
        "# Add 50\n",
        "updated = orig_var + 50\n",
        "# Subtract 90\n",
        "update_2 = updated - 90\n",
        "# Multiply 10\n",
        "update_3 = update_2 * 10\n",
        "# Divide 150\n",
        "update_4 = update_3 /150\n",
        "# Modulus 3\n",
        "update_5 = update_4 % 3\n"
      ]
    },
    {
      "cell_type": "markdown",
      "metadata": {
        "id": "1dzjG_GgPDhO"
      },
      "source": [
        "\n",
        "\n",
        "### P2.PY\n",
        "\n",
        "\n"
      ]
    },
    {
      "cell_type": "code",
      "execution_count": 20,
      "metadata": {
        "id": "7B9Il-ffPDhO",
        "colab": {
          "base_uri": "https://localhost:8080/"
        },
        "outputId": "68ef8afd-6ed8-4a4f-8122-6bc5c6450d8d"
      },
      "outputs": [
        {
          "output_type": "stream",
          "name": "stdout",
          "text": [
            "I ate a burger today and it came with fries\n"
          ]
        }
      ],
      "source": [
        "\"\"\"\n",
        "String Operators\n",
        "\"\"\"\n",
        "\n",
        "# Create two variables, each of which is half of a compound sentence. Do NOT add any punctuation up front. Add the two variables together, and print the result.\n",
        "## Example compound sentence: \"I'll go to the beach today, and I'll go snorkeling.\"\n",
        "\n",
        "first_half = \"I ate a burger today\"\n",
        "second_half = \" and it came with fries\"\n",
        "complete = first_half + second_half\n",
        "print(complete)"
      ]
    },
    {
      "cell_type": "markdown",
      "metadata": {
        "id": "oRjyet9JPDhO"
      },
      "source": [
        "\n",
        "\n",
        "### P3.PY\n",
        "\n",
        "\n"
      ]
    },
    {
      "cell_type": "code",
      "execution_count": 27,
      "metadata": {
        "id": "vtn1nyhgPDhO",
        "colab": {
          "base_uri": "https://localhost:8080/",
          "height": 228
        },
        "outputId": "344efc37-5333-4060-a5fe-f0aa53444816"
      },
      "outputs": [
        {
          "output_type": "stream",
          "name": "stdout",
          "text": [
            "2\n",
            "02\n"
          ]
        },
        {
          "output_type": "error",
          "ename": "TypeError",
          "evalue": "can only concatenate str (not \"int\") to str",
          "traceback": [
            "\u001b[0;31m---------------------------------------------------------------------------\u001b[0m",
            "\u001b[0;31mTypeError\u001b[0m                                 Traceback (most recent call last)",
            "\u001b[0;32m<ipython-input-27-43d27bb2bd95>\u001b[0m in \u001b[0;36m<cell line: 23>\u001b[0;34m()\u001b[0m\n\u001b[1;32m     21\u001b[0m \u001b[0me\u001b[0m \u001b[0;34m=\u001b[0m \u001b[0;34m\"0\"\u001b[0m\u001b[0;34m\u001b[0m\u001b[0;34m\u001b[0m\u001b[0m\n\u001b[1;32m     22\u001b[0m \u001b[0mf\u001b[0m \u001b[0;34m=\u001b[0m \u001b[0;36m2\u001b[0m\u001b[0;34m\u001b[0m\u001b[0;34m\u001b[0m\u001b[0m\n\u001b[0;32m---> 23\u001b[0;31m \u001b[0manswer\u001b[0m \u001b[0;34m=\u001b[0m \u001b[0me\u001b[0m \u001b[0;34m+\u001b[0m \u001b[0mf\u001b[0m\u001b[0;34m\u001b[0m\u001b[0;34m\u001b[0m\u001b[0m\n\u001b[0m\u001b[1;32m     24\u001b[0m \u001b[0mprint\u001b[0m\u001b[0;34m(\u001b[0m\u001b[0manswer\u001b[0m\u001b[0;34m)\u001b[0m\u001b[0;34m\u001b[0m\u001b[0;34m\u001b[0m\u001b[0m\n",
            "\u001b[0;31mTypeError\u001b[0m: can only concatenate str (not \"int\") to str"
          ]
        }
      ],
      "source": [
        "\"\"\"\n",
        "Addition I - Numbers & Strings\n",
        "\"\"\"\n",
        "\n",
        "# Add the below sets of variables together.\n",
        "\n",
        "# A)\n",
        "a = 0\n",
        "b = 2\n",
        "c = a + b\n",
        "print(c)\n",
        "\n",
        "# B)\n",
        "c = '0'\n",
        "d = '2'\n",
        "new = c + d\n",
        "\n",
        "print(new)\n",
        "\n",
        "# C)\n",
        "e = \"0\"\n",
        "f = 2\n",
        "answer = e + f\n",
        "print(answer)"
      ]
    },
    {
      "cell_type": "markdown",
      "metadata": {
        "id": "dPlqLQilPDhO"
      },
      "source": [
        "\n",
        "\n",
        "### P4.PY\n",
        "\n",
        "\n"
      ]
    },
    {
      "cell_type": "code",
      "execution_count": 35,
      "metadata": {
        "id": "YuyVf7y1PDhO",
        "colab": {
          "base_uri": "https://localhost:8080/"
        },
        "outputId": "83e1b425-a1be-4d3d-93aa-ab1c4fd23051"
      },
      "outputs": [
        {
          "output_type": "stream",
          "name": "stdout",
          "text": [
            "2\n",
            "0\n",
            "1\n"
          ]
        }
      ],
      "source": [
        "\"\"\"\n",
        "Addition II - Booleans\n",
        "\"\"\"\n",
        "\n",
        "# Add the below sets of variables together.\n",
        "\n",
        "# A)\n",
        "a = True\n",
        "b = True\n",
        "new = a + b\n",
        "print(new)\n",
        "\n",
        "# B)\n",
        "c = False\n",
        "d = False\n",
        "e = c + d\n",
        "print(e)\n",
        "\n",
        "# C)\n",
        "e = True\n",
        "f = False\n",
        "\n",
        "print(e + f)"
      ]
    },
    {
      "cell_type": "markdown",
      "metadata": {
        "id": "apETnVwAPDhO"
      },
      "source": [
        "\n"
      ]
    },
    {
      "cell_type": "code",
      "source": [],
      "metadata": {
        "id": "osoEmlVRsRzV"
      },
      "execution_count": null,
      "outputs": []
    }
  ],
  "metadata": {
    "colab": {
      "provenance": []
    },
    "language_info": {
      "name": "python"
    },
    "kernelspec": {
      "name": "python3",
      "display_name": "Python 3"
    }
  },
  "nbformat": 4,
  "nbformat_minor": 0
}