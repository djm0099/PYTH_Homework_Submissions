{
  "cells": [
    {
      "cell_type": "markdown",
      "metadata": {
        "id": "BEy4j16X-qL0"
      },
      "source": [
        "<a href=\"https://colab.research.google.com/github/mottaquikarim/PYTH2/blob/master/src/PSETS/nb/conditionals_inclass_psets.ipynb\" target=\"_parent\"><img src=\"https://colab.research.google.com/assets/colab-badge.svg\" alt=\"Open In Colab\"/></a>"
      ]
    },
    {
      "cell_type": "markdown",
      "metadata": {
        "id": "wLVGWwej-qL4"
      },
      "source": [
        "#  CONDITIONALS\n",
        "\n",
        "## WEATHER\n",
        "\n",
        "### P1.PY\n",
        "\n",
        "\n"
      ]
    },
    {
      "cell_type": "code",
      "execution_count": 79,
      "metadata": {
        "id": "W2HSIU6k-qL5",
        "colab": {
          "base_uri": "https://localhost:8080/"
        },
        "outputId": "16923f20-65be-4dd5-9666-edb06872a87c"
      },
      "outputs": [
        {
          "output_type": "stream",
          "name": "stdout",
          "text": [
            "False\n"
          ]
        }
      ],
      "source": [
        "\"\"\"\n",
        "Weather I - Do you need boots?\n",
        "\"\"\"\n",
        "\n",
        "# Use the values of the vars defined below to ouput the correct contextual answer to the questions below. (Note: The variables themselves ARE the questions.)\n",
        "\n",
        "# Example:\n",
        "## am_i_hungry = False\n",
        "## am_i_tired = True\n",
        "## do_i_need_to_stay_awake = False\n",
        "\n",
        "## should_i_drink_coffee_now = am_i_tired and do_i_need_to_stay_awake\n",
        "\n",
        "## ^^ This ^^ evaluates to False. If you're tired and don't need to stay awake, you don't need to drink coffee!\n",
        "\n",
        "\n",
        "is_it_raining = True\n",
        "is_it_snowing = False\n",
        "\n",
        "\n",
        "do_i_need_snow_boots = is_it_snowing  #If it is snowing, this returns true (bring boots)\n",
        "can_i_skip_snow_boots = not is_it_snowing #NOT def: The 'not' operator in Python is a logical operator that returns the inverse of the truth value of the data it precedes.\n",
        "do_i_need_rain_boots = is_it_raining #If its raining, this returns true (bring rain boots)\n",
        "can_i_skip_rain_boots = not is_it_raining #If is_it_raining is True, \"not\" returns the inverse of truth value of boolean expression\n",
        "\n",
        "print(can_i_skip_rain_boots)"
      ]
    },
    {
      "cell_type": "markdown",
      "metadata": {
        "id": "7ZiEyDZm-qL7"
      },
      "source": [
        "\n",
        "\n",
        "### P2.PY\n",
        "\n",
        "\n"
      ]
    },
    {
      "cell_type": "code",
      "execution_count": 5,
      "metadata": {
        "id": "vTbHXXa4-qL7",
        "colab": {
          "base_uri": "https://localhost:8080/"
        },
        "outputId": "986df1dd-67b1-480c-9ff1-7b98de74decc"
      },
      "outputs": [
        {
          "output_type": "stream",
          "name": "stdout",
          "text": [
            "True\n"
          ]
        }
      ],
      "source": [
        "\"\"\"\n",
        "Weather II - Precipitation\n",
        "\"\"\"\n",
        "\n",
        "# Repeat the same process as p1, using this new set of variables.\n",
        "\n",
        "sunny = True\n",
        "raining = True\n",
        "snowing = False\n",
        "\n",
        "is_it_sunny = sunny\n",
        "is_there_precipitation = raining\n",
        "is_it_sleeting = raining and snowing #Sleeting will include both rain and snow at the same time (use \"and\")\n",
        "is_there_rainbow = sunny and raining #Rainbow would include both rain and sun shine (use \"and\")\n",
        "\n",
        "print(is_there_rainbow)"
      ]
    },
    {
      "cell_type": "markdown",
      "metadata": {
        "id": "0zxw5tkp-qL8"
      },
      "source": [
        "\n",
        "\n",
        "### P3.PY\n",
        "\n",
        "\n"
      ]
    },
    {
      "cell_type": "code",
      "execution_count": 10,
      "metadata": {
        "id": "-87GmQ1p-qL8",
        "colab": {
          "base_uri": "https://localhost:8080/"
        },
        "outputId": "48a43b80-b81b-4895-b5b4-5ec6768e611e"
      },
      "outputs": [
        {
          "output_type": "stream",
          "name": "stdout",
          "text": [
            "False\n"
          ]
        }
      ],
      "source": [
        "\"\"\"\n",
        "Weather III - Describe Conditions\n",
        "\"\"\"\n",
        "\n",
        "# Repeat the same process as p1, using this new set of variables.\n",
        "\n",
        "\n",
        "is_it_warm = True\n",
        "is_it_humid = True\n",
        "is_it_cold = False\n",
        "is_it_icy = False\n",
        "is_it_foggy = False\n",
        "is_it_windy = False\n",
        "is_it_overcast = True\n",
        "\n",
        "\n",
        "is_it_summer_weather = is_it_warm  #If its warm, we assume it is summer weather\n",
        "is_rain_coming = is_it_overcast and is_it_foggy #Fog and overcast typically precede the rainfall\n",
        "is_it_muggy = is_it_foggy and is_it_humid  #FOG + HUMIDY = MUGGINESS\n",
        "do_i_need_coat = is_it_cold or is_it_icy or is_it_windy #You would need a coat if it is cold, windy, or icy\n",
        "\n",
        "print(do_i_need_coat)"
      ]
    },
    {
      "cell_type": "markdown",
      "metadata": {
        "id": "iLXph_6H-qL9"
      },
      "source": [
        "\n",
        "\n",
        "## LOGIC\n",
        "\n",
        "### P1.PY\n",
        "\n",
        "\n"
      ]
    },
    {
      "cell_type": "code",
      "execution_count": 82,
      "metadata": {
        "id": "Ogzta1Y--qL9",
        "colab": {
          "base_uri": "https://localhost:8080/"
        },
        "outputId": "293d199f-a550-431e-f0b0-a00d4b0a6621"
      },
      "outputs": [
        {
          "output_type": "stream",
          "name": "stdout",
          "text": [
            "A\n"
          ]
        }
      ],
      "source": [
        "\"\"\"\n",
        "Calculate Grade\n",
        "\"\"\"\n",
        "\n",
        "grade = 100  # expect this to be a number\n",
        "\n",
        "# write a program that will print the \"letter\"\n",
        "# equivalent of the grade, for example:\n",
        "# when grade = 90 # -> expect A\n",
        "# when grade = 80 # -> expect B\n",
        "# when grade = 70 # -> expect C\n",
        "# when grade = 60 # -> expect D\n",
        "# when grade = 54 # -> expect F\n",
        "# when grade = -10 # -> expect Error\n",
        "# when grade = 10000 # -> expect Error\n",
        "# when grade = \"lol skool sucks\" # -> expect Error\n",
        "\n",
        "if grade >= 90 and grade <= 100:\n",
        "  print(\"A\")\n",
        "elif grade >= 80 and grade < 90:\n",
        "  print(\"B\")\n",
        "elif( grade >=70 and grade < 80):\n",
        "  print(\"C\")\n",
        "elif( grade >=60 and grade < 70):\n",
        "  print(\"D\")\n",
        "elif( grade <=60 and grade > 0 ):\n",
        "  print(\"F\")\n",
        "elif(grade < 0):\n",
        "  print(\"Error\")\n",
        "elif(grade > 100):\n",
        "  print(\"Error\")\n",
        "else:\n",
        "  print(\"Error\")\n"
      ]
    },
    {
      "cell_type": "markdown",
      "metadata": {
        "id": "2auziZRH-qL9"
      },
      "source": [
        "\n",
        "\n",
        "### P2.PY\n",
        "\n",
        "\n"
      ]
    },
    {
      "cell_type": "code",
      "execution_count": 45,
      "metadata": {
        "id": "AjtyZhcV-qL-",
        "colab": {
          "base_uri": "https://localhost:8080/"
        },
        "outputId": "72beb90e-e4db-40d6-f4bd-d7ebf741e84a"
      },
      "outputs": [
        {
          "output_type": "stream",
          "name": "stdout",
          "text": [
            "+\n",
            "-\n"
          ]
        }
      ],
      "source": [
        "\"\"\"\n",
        "Sign of Product\n",
        "\"\"\"\n",
        "\n",
        "# Given three numbers, a, b, c, without multiplying, determine the sign of their product.\n",
        "\n",
        "# EXAMPLE: a = -5, b = 6, c = -4, print 1\n",
        "\n",
        "#Count the number of negative  using a condition for greater than or less than 0.\n",
        "a  = 5\n",
        "b = 6\n",
        "c =  4\n",
        "count = 0\n",
        "if a < 0:\n",
        "    count += 1\n",
        "if b < 0:\n",
        "    count += 1\n",
        "if c < 0:\n",
        "    count += 1\n",
        "#If there is any remainder when dividing by 2, the number of negatives is an odd number which makes the product of the result negative.\n",
        "# If there is no remainder, the number of negatives is an even number and will return a positive value for the product\n",
        "if count % 2 == 0:\n",
        "    print(\"+\")\n",
        "else:\n",
        "    print(\"-\")\n",
        "\n",
        "# EXAMPLE: a = 5, b = 6, c = -4, print -1\n",
        "\n",
        "a  = 5\n",
        "b = 6\n",
        "c =  -4\n",
        "count = 0\n",
        "if a < 0:\n",
        "    count += 1\n",
        "if b < 0:\n",
        "    count += 1\n",
        "if c < 0:\n",
        "    count += 1\n",
        "#If there is any remainder when dividing by 2, the number of negatives is an odd number which makes the product of the result negative.\n",
        "# If there is no remainder, the number of negatives is an even number and will return a positive value for the product\n",
        "if count % 2 == 0:\n",
        "    print(\"+\")\n",
        "else:\n",
        "    print(\"-\")\n"
      ]
    },
    {
      "cell_type": "markdown",
      "metadata": {
        "id": "J1PEQ9Qx-qL-"
      },
      "source": [
        "\n",
        "\n",
        "### P3.PY\n",
        "\n",
        "\n"
      ]
    },
    {
      "cell_type": "code",
      "execution_count": 56,
      "metadata": {
        "id": "FMmFHoRz-qL-",
        "colab": {
          "base_uri": "https://localhost:8080/"
        },
        "outputId": "c1ef34df-8c6e-417d-c2a5-f8c198aeb107"
      },
      "outputs": [
        {
          "output_type": "stream",
          "name": "stdout",
          "text": [
            "True\n"
          ]
        }
      ],
      "source": [
        "\"\"\"\n",
        "Any Uppercase\n",
        "\"\"\"\n",
        "\n",
        "# Given a string str, determine if there are any uppercase values in it. Use only conditional statements and string methods (you may have to look some up!)\n",
        "\n",
        "# EXAMPLE: str = \"teSt\", print True\n",
        "\n",
        "str1 = \"teSt\"\n",
        "string_list = list(str1) #Trying to isolate each letter\n",
        "has_uppercase = any(char.isupper() for char in string_list) # I got this from ChatGPT and am not to familiar with the isupper() tool here\n",
        "print(has_uppercase)\n",
        "\n"
      ]
    },
    {
      "cell_type": "markdown",
      "metadata": {
        "id": "7yS7Ef79-qL-"
      },
      "source": [
        "\n",
        "\n",
        "### P4.PY\n",
        "\n",
        "\n"
      ]
    },
    {
      "cell_type": "code",
      "execution_count": 59,
      "metadata": {
        "id": "G7UTXC8x-qL_",
        "colab": {
          "base_uri": "https://localhost:8080/"
        },
        "outputId": "82343a8b-832d-44da-b7bf-562ae02ba40e"
      },
      "outputs": [
        {
          "output_type": "stream",
          "name": "stdout",
          "text": [
            "True\n"
          ]
        }
      ],
      "source": [
        "\"\"\"\n",
        "Empty Strings\n",
        "\"\"\"\n",
        "\n",
        "# Given any empty string, of the form:\n",
        "\n",
        "# ''\n",
        "# ' '\n",
        "# '  '\n",
        "# any other num of spaces...\n",
        "\n",
        "# determine if the str is empty or not (print True or False). Hint: You'll need to look up how to remove trailing spaces from a string.\n",
        "\n",
        "str1 = '' # the strip() method is used to remove trailing spaces from the string\n",
        "#I have to create a function using the strip method for a potentially empty string\n",
        "\n",
        "def empty_string(string):\n",
        "  stripped_str = string.strip()\n",
        "  if stripped_str == '':\n",
        "    return True\n",
        "  else:\n",
        "    return False\n",
        "\n",
        "print(empty_string(str1))\n"
      ]
    },
    {
      "cell_type": "markdown",
      "metadata": {
        "id": "NH13s3Kx-qL_"
      },
      "source": [
        "\n",
        "\n",
        "### P5.PY\n",
        "\n",
        "\n"
      ]
    },
    {
      "cell_type": "code",
      "execution_count": 91,
      "metadata": {
        "id": "5WE6O2-9-qL_",
        "colab": {
          "base_uri": "https://localhost:8080/"
        },
        "outputId": "ceb0a927-6458-4cf6-98db-4499c1ef72cc"
      },
      "outputs": [
        {
          "output_type": "stream",
          "name": "stdout",
          "text": [
            "False\n"
          ]
        }
      ],
      "source": [
        "\"\"\"\n",
        "truthTableEvaluator\n",
        "\"\"\"\n",
        "\n",
        "# Given the following inputs:\n",
        "\n",
        "\n",
        "# P = # True or False\n",
        "# Q = # True or False\n",
        "# op = # '^' (logical AND, conjunction)\n",
        "#      # OR, 'v' (logical OR, disjunction)\n",
        "#      # OR, '->' (logical conditional, implication)\n",
        "#      # OR, '<->' (biconditional)\n",
        "# determine the correct outcome.\n",
        "\n",
        "P = True\n",
        "Q = False\n",
        "op = '^'\n",
        "# Given 2 boolean variables ( P & Q ). I think the question is asking that if combining two true/false boolean variables, what is the outcome of the result of all combinations of T/F\n",
        "if op == '^':\n",
        "    outcome = P and Q\n",
        "elif op == 'v':\n",
        "    outcome = P or Q\n",
        "elif op == '->':\n",
        "    outcome = (not P) or Q\n",
        "elif op == '<->':\n",
        "    outcome = P == Q\n",
        "else:\n",
        "    outcome = \"None\"\n",
        "\n",
        "# Print the outcome\n",
        "print(outcome)\n",
        "\n",
        "\n",
        "# https://medium.com/i-math/intro-to-truth-tables-boolean-algebra-73b331dd9b94\n"
      ]
    },
    {
      "cell_type": "markdown",
      "metadata": {
        "id": "onEfoKr0-qL_"
      },
      "source": [
        "\n",
        "\n",
        "## RANDOM_NUMS\n",
        "\n",
        "### P1.PY\n",
        "\n",
        "\n"
      ]
    },
    {
      "cell_type": "code",
      "execution_count": 66,
      "metadata": {
        "id": "32AZO85Q-qL_",
        "colab": {
          "base_uri": "https://localhost:8080/"
        },
        "outputId": "f4b7fbbf-9e90-454e-bcc6-867e6cb93788"
      },
      "outputs": [
        {
          "output_type": "stream",
          "name": "stdout",
          "text": [
            "red\n"
          ]
        }
      ],
      "source": [
        "\"\"\"\n",
        "Generate Traffic Light\n",
        "\"\"\"\n",
        "\n",
        "# import python random package\n",
        "import random\n",
        "\n",
        "# generates a random number from 1 to 3\n",
        "randn = random.randint(1,3)\n",
        "\n",
        "\n",
        "# if 1, print 'red'\n",
        "# if 2, print 'green',\n",
        "# if 3, print 'yellow'\n",
        "if randn == 1:\n",
        "  print(\"red\")\n",
        "if randn == 2:\n",
        "  print(\"green\")\n",
        "if randn == 3:\n",
        "  print(\"yellow\")"
      ]
    },
    {
      "cell_type": "markdown",
      "metadata": {
        "id": "JwbQR0wH-qMA"
      },
      "source": [
        "\n",
        "\n",
        "### P2.PY\n",
        "\n",
        "\n"
      ]
    },
    {
      "cell_type": "code",
      "execution_count": 76,
      "metadata": {
        "id": "BOLj-HD0-qMA",
        "colab": {
          "base_uri": "https://localhost:8080/"
        },
        "outputId": "4ab1d170-425e-4cfd-ef33-8e5a38e04d08"
      },
      "outputs": [
        {
          "output_type": "stream",
          "name": "stdout",
          "text": [
            "1-646-606-4279\n"
          ]
        }
      ],
      "source": [
        "\"\"\"\n",
        "Generate Phone Number w/Area Code\n",
        "\"\"\"\n",
        "\n",
        "# import python random package\n",
        "import random\n",
        "\n",
        "# generate a random phone number of the form:\n",
        "# 1-718-786-2825\n",
        "area_codes = ['646', '718', '212']\n",
        "areas = random.choice(area_codes)\n",
        "middle_3 = ''.join(random.choices('0123456789', k=3))\n",
        "last_4 = ''.join(random.choices('0123456789', k=4))\n",
        "# This should be a string\n",
        "# Valid Area Codes are: 646, 718, 212\n",
        "# if phone number doesn't have [646, 718, 212]\n",
        "# as area code, pick one of the above at random\n",
        "phone_number = f'1-{areas}-{middle_3}-{last_4}' #Merge the 3 different strings together\n",
        "print(phone_number)\n"
      ]
    },
    {
      "cell_type": "markdown",
      "metadata": {
        "id": "BpU7Kwi9-qMA"
      },
      "source": [
        "\n"
      ]
    }
  ],
  "metadata": {
    "colab": {
      "provenance": []
    },
    "language_info": {
      "name": "python"
    },
    "kernelspec": {
      "name": "python3",
      "display_name": "Python 3"
    }
  },
  "nbformat": 4,
  "nbformat_minor": 0
}