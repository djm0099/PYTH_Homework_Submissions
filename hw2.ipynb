{
  "cells": [
    {
      "cell_type": "markdown",
      "metadata": {
        "id": "IndRomxa2C-j"
      },
      "source": [
        "<a href=\"https://colab.research.google.com/github/mottaquikarim/PYTH2/blob/master/src/PSETS/nb/hw2.ipynb\" target=\"_parent\"><img src=\"https://colab.research.google.com/assets/colab-badge.svg\" alt=\"Open In Colab\"/></a>"
      ]
    },
    {
      "cell_type": "markdown",
      "metadata": {
        "id": "-tHZ5q172C-n"
      },
      "source": [
        "#  LISTS\n",
        "\n",
        "## LIST_MANIPULATION\n",
        "\n",
        "### P1.PY Phone Numbers\n"
      ]
    },
    {
      "cell_type": "code",
      "execution_count": null,
      "metadata": {
        "id": "4XSe22nA2C-o",
        "outputId": "1760662a-dc7e-49fb-b342-002706cee3f3",
        "colab": {
          "base_uri": "https://localhost:8080/"
        }
      },
      "outputs": [
        {
          "output_type": "stream",
          "name": "stdout",
          "text": [
            "11921680143\n"
          ]
        }
      ],
      "source": [
        "\"\"\"\n",
        "Phone Numbers\n",
        "\"\"\"\n",
        "\n",
        "# Parse this phone number so that a computer can process\n",
        "# it. (Hint: It can't include any non-numeric\n",
        "# characters.)\n",
        "\n",
        "cell = '1.192.168.0143'\n",
        "\n",
        "# Initialize an empty string to store the parsed number\n",
        "parsed_number = ''\n",
        "\n",
        "# Iterate through each character in the cell\n",
        "for char in cell:\n",
        "    # Check if the character is a digit\n",
        "    if char.isdigit():\n",
        "        # If it's a digit, add it to the parsed number\n",
        "        parsed_number += char\n",
        "\n",
        "# Print the parsed number\n",
        "print(parsed_number)"
      ]
    },
    {
      "cell_type": "markdown",
      "metadata": {
        "id": "9lhBsoyu2C-p"
      },
      "source": [
        "\n",
        "\n",
        "### P2.PY Basic Math Ops\n",
        "\n",
        "\n"
      ]
    },
    {
      "cell_type": "code",
      "execution_count": null,
      "metadata": {
        "id": "xtYKVFxu2C-q",
        "outputId": "d13ed895-3400-40ca-e86f-b171b0ee6845",
        "colab": {
          "base_uri": "https://localhost:8080/"
        }
      },
      "outputs": [
        {
          "output_type": "stream",
          "name": "stdout",
          "text": [
            "my_max = 30\n",
            "my_mean = 17.4\n",
            "my_min = 2\n",
            "my_sum = 174\n"
          ]
        }
      ],
      "source": [
        "\"\"\"\n",
        "Basic Math Ops\n",
        "\"\"\"\n",
        "\n",
        "# Given the list below, assign the correct values to the variables below.\n",
        "\t# my_sum =\n",
        "\t# my_min =\n",
        "\t# my_max =\n",
        "\t# my_range =\n",
        "\t# my_mean =\n",
        "\n",
        "nums = [2, 19, 20, 12, 6, 24, 8, 30, 28, 25]\n",
        "\n",
        "my_sum = sum(nums)\n",
        "my_min = min(nums)\n",
        "my_max = max(nums)\n",
        "my_range = my_max  - my_min\n",
        "my_mean = my_sum / len(nums)\n",
        "\n",
        "# Once you finish, print out each value **on its own line** in this format: \"my_median = \" etc.\n",
        "print(\"my_max =\",my_max)\n",
        "print(\"my_mean =\", my_mean)\n",
        "print(\"m\ty_min =\", my_min)\n",
        "print(\"my_sum =\", my_sum)\n"
      ]
    },
    {
      "cell_type": "markdown",
      "metadata": {
        "id": "iVgvMKdU2C-q"
      },
      "source": [
        "\n",
        "\n",
        "### P3.PY Merge Lists with Duplicates\n",
        "\n"
      ]
    },
    {
      "cell_type": "code",
      "execution_count": null,
      "metadata": {
        "id": "tjpCsbQx2C-q",
        "outputId": "98eef2be-adee-445a-83d0-e69139d38afb",
        "colab": {
          "base_uri": "https://localhost:8080/"
        }
      },
      "outputs": [
        {
          "output_type": "stream",
          "name": "stdout",
          "text": [
            "None\n",
            "[2, 8, 6, 10]\n",
            "[10, 4, 12]\n",
            "[2, 8, 6, 10, 10, 4, 12]\n",
            "[2, 8, 6, 10, 10, 4, 12]\n",
            "[13, 16, 9, 6, 10, 10, 4, 12]\n",
            "list5 after merging and removing duplicates: [13, 16, 9, 6, 10, 4, 12, 2, 8]\n"
          ]
        }
      ],
      "source": [
        "\"\"\"\n",
        "Merge Lists with Duplicates\n",
        "\"\"\"\n",
        "\n",
        "# Use the two lists below to solve this problem. Print out the result from each section as you go along.\n",
        "\n",
        "list1, list2 = [2, 8, 6], [10, 4, 12]\n",
        "\n",
        "\n",
        "# A) Add another instance of each item in list1 to list1 again and assign the results to list3.\n",
        "list3 = list1.append(10)\n",
        "print(list3)\n",
        "#not sure if i am interpreting this correctly but I think it is asking me to append list1 and add another digit, then call it list 3\n",
        "print(list1)\n",
        "print(list2)\n",
        "list3 = list1+ list2\n",
        "print(list3)\n",
        "# B) Combine the two given lists and assign them to list4.\n",
        "list4 = list1 + list2\n",
        "print(list4)\n",
        "\n",
        "# C) Replace the first 3 items in list 3 with the numbers 13, 16, 9.\n",
        "list3[0:2] = [13,16,9]\n",
        "#replaces the first three values of the list to 13,16,9\n",
        "print(list3)\n",
        "\n",
        "# D) Merge list3 and list4 to create a list containing no duplicates and store this in list5.\n",
        "list5 = []\n",
        "\n",
        "# Merge list3 and list4 to create a list containing no duplicates\n",
        "for num in list3 + list4:\n",
        "    if num not in list5:\n",
        "        list5.append(num)\n",
        "\n",
        "print(\"list5 after merging and removing duplicates:\", list5)\n",
        "\n",
        "# Take a look at your printed statements to see the evolution of your lists with each step of this problem.\n"
      ]
    },
    {
      "cell_type": "markdown",
      "metadata": {
        "id": "TkgIpYCn2C-r"
      },
      "source": [
        "\n",
        "\n",
        "### P4.PY Spotify Playlists - Sorting\n"
      ]
    },
    {
      "cell_type": "code",
      "execution_count": null,
      "metadata": {
        "id": "fmXNQW862C-s",
        "outputId": "23119aba-2e6a-4d11-c71a-665ece958e47",
        "colab": {
          "base_uri": "https://localhost:8080/"
        }
      },
      "outputs": [
        {
          "output_type": "stream",
          "name": "stdout",
          "text": [
            "['At Last', 'Dancing in the Moonlight', 'Fortunate Son', 'Hey Jude', \"I'm Yours\", \"Isn't She Lovely\", 'Just the Way You Are', 'Roxanne', 'Tiny Dancer', 'Vienna']\n",
            "['Vienna', 'Tiny Dancer', 'Roxanne', 'Just the Way You Are', \"Isn't She Lovely\", \"I'm Yours\", 'Hey Jude', 'Fortunate Son', 'Dancing in the Moonlight', 'At Last']\n"
          ]
        }
      ],
      "source": [
        "\"\"\"\n",
        "Spotify Playlists - Sorting\n",
        "\"\"\"\n",
        "\n",
        "# You work for Spotify and are creating a feature for users to alphabetize their playlists by song title. Below is a list of titles from a sample playlist.\n",
        "\n",
        "playlist_titles = ['Tiny Dancer', 'At Last', 'Fortunate Son',\n",
        "'Hey Jude', 'Isn\\'t She Lovely', 'Just the Way You Are', 'I\\'m Yours',\n",
        "'Vienna', 'Roxanne', 'Dancing in the Moonlight']\n",
        "\n",
        "# Alphabetize these songs and print the result.\n",
        "abc_order = sorted(playlist_titles)\n",
        "print(abc_order)\n",
        "\n",
        "reverse_abc_order = sorted(playlist_titles,reverse=True)\n",
        "\n",
        "# Now do the reverse.\n",
        "print(reverse_abc_order)"
      ]
    },
    {
      "cell_type": "markdown",
      "metadata": {
        "id": "xM4UAnW92C-s"
      },
      "source": [
        "\n",
        "\n",
        "### P5.PY Cool Runnings!\n"
      ]
    },
    {
      "cell_type": "code",
      "execution_count": null,
      "metadata": {
        "id": "Mb8HGdhW2C-s",
        "outputId": "8b00e538-04be-4c90-9b79-5734c3a5fe67",
        "colab": {
          "base_uri": "https://localhost:8080/"
        }
      },
      "outputs": [
        {
          "output_type": "stream",
          "name": "stdout",
          "text": [
            "Feel the rhythm.\n",
            "Feel the rhyme.\n",
            "Get on up.\n",
            "It's YOLO time!\n"
          ]
        }
      ],
      "source": [
        "\"\"\"\n",
        "Cool Runnings!\n",
        "\"\"\"\n",
        "\n",
        "# Here's a quote from the movie 'Cool Runnings'. :)\n",
        "\n",
        "# Replace the word bobsled with \"YOLO\" and print the resultant list as 4 sentences (i.e. NOT a list), each on a new line.\n",
        "\n",
        "cool_runnings = [\n",
        "\t'Feel', 'the', 'rhythm.',\n",
        "\t'Feel', 'the', 'rhyme.',\n",
        "\t'Get', 'on', 'up.',\n",
        "\t'It\\'s', 'bobsled', 'time!'\n",
        "]\n",
        "#Using index to replace the old word with YOLO\n",
        "cool_runnings[cool_runnings.index('bobsled')] = 'YOLO'\n",
        "print(cool_runnings[0], cool_runnings[1], cool_runnings[2])\n",
        "print(cool_runnings[3], cool_runnings[4], cool_runnings[5])\n",
        "print(cool_runnings[6], cool_runnings[7], cool_runnings[8])\n",
        "print(cool_runnings[9], cool_runnings[10], cool_runnings[11])\n",
        "\n"
      ]
    },
    {
      "cell_type": "markdown",
      "metadata": {
        "id": "wD_klwe72C-t"
      },
      "source": [
        "\n",
        "\n",
        "## LIST_CHALLENGES\n",
        "\n",
        "### P1.PY CHALLENGE - Extensions\n"
      ]
    },
    {
      "cell_type": "code",
      "execution_count": null,
      "metadata": {
        "id": "SyDu26F32C-t"
      },
      "outputs": [],
      "source": [
        "\"\"\"\n",
        "CHALLENGE - Extensions\n",
        "\"\"\"\n",
        "\n",
        "# ** Challenge** Add each element of the tuple1 to list1 *individually* and print the result.\n",
        "\n",
        "list1 = [6, 12, 9, 4, 10, 1]\n",
        "tuple1 = [(15,3), (6,2), (1, 8)]\n"
      ]
    },
    {
      "cell_type": "markdown",
      "metadata": {
        "id": "geyCjFvk2C-t"
      },
      "source": [
        "\n",
        "\n",
        "### P2.PY CHALLENGE - Core Statistics Calculations\n"
      ]
    },
    {
      "cell_type": "code",
      "execution_count": null,
      "metadata": {
        "id": "Oibv0ZGs2C-t"
      },
      "outputs": [],
      "source": [
        "\"\"\"\n",
        "CHALLENGE - Core Statistics Calculations\n",
        "\"\"\"\n",
        "\n",
        "# Given the sample below, find the mean, median, mode, variance, and standard deviation of this sample. Print them out separately, but in the same format as before.\n",
        "\t# my_median =\n",
        "\t# my_mode =\n",
        "\t# my_variance =\n",
        "\t# my_sd =\n",
        "\n",
        "sample = [6, 19, 20, 12, 6, 24, 8, 30, 28, 25]\n",
        "\n",
        "\n",
        "# Once you finish, print out each value **on its own line** in this format: \"median = \" etc.\n"
      ]
    },
    {
      "cell_type": "markdown",
      "metadata": {
        "id": "UneqRCQr2C-t"
      },
      "source": [
        "\n",
        "\n",
        "#  DICTS\n",
        "\n",
        "## DICT_OPS\n",
        "\n",
        "### P1.PY Basic Dict Concepts\n"
      ]
    },
    {
      "cell_type": "code",
      "execution_count": 5,
      "metadata": {
        "id": "FnycAO-r2C-u",
        "colab": {
          "base_uri": "https://localhost:8080/"
        },
        "outputId": "ba04eab1-0076-4ff4-8363-d703a11e79e8"
      },
      "outputs": [
        {
          "output_type": "stream",
          "name": "stdout",
          "text": [
            "5\n",
            "Anthony\n",
            "Ping\n",
            "Enrique\n",
            "Arjun\n",
            "Allison\n",
            "('Allison', 'Zhang')\n",
            "{'Anthony': 'Paollelo', 'Ping': 'Qiao', 'Enrique': 'Alvarez', 'Arjun': 'Dhir', 'Allison': 'Zhang'}\n"
          ]
        }
      ],
      "source": [
        "\"\"\"\n",
        "Basic Dict Concepts\n",
        "\"\"\"\n",
        "\n",
        "# A) Declare an empty dict as d1.\n",
        "d1 = {}\n",
        "\n",
        "\n",
        "# B) Create a dict called d2 containing the first and last names below:\n",
        "# Anthony Paollelo, Ping Qiao, Enrique Alvarez, Arjun Dhir\n",
        "\n",
        "d2 = {\"Anthony\": \"Paollelo\",\n",
        "    \"Ping\": \"Qiao\",\n",
        "    \"Enrique\": \"Alvarez\",\n",
        "    \"Arjun\": \"Dhir\"}\n",
        "\n",
        "\n",
        "\n",
        "\n",
        "# C) Add Allison Zhang person to d2.\n",
        "\n",
        "d2[\"Allison\"] = \"Zhang\"\n",
        "\n",
        "\n",
        "# D) How many people are now in d2? Print out all their *first* names in the vars below.\n",
        "count_people = len(d2)\n",
        "print(count_people)\n",
        "num_people = count_people\n",
        "\n",
        "### first_names =\n",
        "for first_name in d2.keys():\n",
        "  print(first_name)\n",
        "\n",
        "# E) Delete a random person from d2 and print his/her name in the var below.\n",
        "\n",
        "deleted_person = d2.popitem()\n",
        "x = deleted_person\n",
        "print(x)\n",
        "\n",
        "\n",
        "# F) Re-add the name you deleted to the end of d2.\n",
        "d2[deleted_person[0]] = deleted_person[1]\n",
        "print(d2)\n",
        "\n",
        "\n",
        "\n"
      ]
    },
    {
      "cell_type": "markdown",
      "metadata": {
        "id": "1T5B_1rF2C-u"
      },
      "source": [
        "\n",
        "\n",
        "### P2.PY Merging Dicts\n",
        "\n",
        "\n"
      ]
    },
    {
      "cell_type": "code",
      "execution_count": 10,
      "metadata": {
        "id": "KgIJVp_C2C-u",
        "colab": {
          "base_uri": "https://localhost:8080/"
        },
        "outputId": "e3ffb62e-eb09-4e58-c3a6-1b333d9521f7"
      },
      "outputs": [
        {
          "output_type": "stream",
          "name": "stdout",
          "text": [
            "{'a': 100, 'b': 200, 'c': 300, 'd': 400, 'e': 500}\n"
          ]
        }
      ],
      "source": [
        "#\"\"\"Merging Dicts\"\"\n",
        "\n",
        "# Merge these two dicts without creating a new one.\n",
        "\n",
        "d1 = {'a': 100, 'b': 200}\n",
        "d2 = {'c': 300, 'd': 400, 'e': 500}\n",
        "d1.update(d2)\n",
        "#Dont know if we covered this, but .update looks like a great tool to use here\n",
        "print(d1)\n"
      ]
    },
    {
      "cell_type": "markdown",
      "metadata": {
        "id": "yATEmZsL2C-u"
      },
      "source": [
        "\n",
        "\n",
        "### P3.PY Math with Girl Scout Cookies\n",
        "\n",
        "\n"
      ]
    },
    {
      "cell_type": "code",
      "execution_count": 21,
      "metadata": {
        "id": "dwBWObdv2C-u",
        "colab": {
          "base_uri": "https://localhost:8080/"
        },
        "outputId": "2749cdb2-fe4e-4810-b8b2-0c94fbc0f939"
      },
      "outputs": [
        {
          "output_type": "stream",
          "name": "stdout",
          "text": [
            "Wendy: 25\n",
            "Connie: 26\n",
            "Francesca: 42\n",
            "tagalongs: 33\n",
            "thin mints: 30\n",
            "samoas: 30\n",
            "tagalongs: 11.0\n",
            "thin mints: 10.0\n",
            "samoas: 10.0\n",
            "This year we sold 93 boxes!\n"
          ]
        }
      ],
      "source": [
        "from re import S\n",
        "\"\"\"\n",
        "Math with Girl Scout Cookies\n",
        "\"\"\"\n",
        "\n",
        "# Print out the number of boxes of girl scout cookies that each girl in the troop sold in the below format:\n",
        "\t# Wendy: _____\n",
        "\t# Connie: _____\n",
        "\t# Francesca: _____\n",
        "\n",
        "Wendy = {'tagalongs': 5, 'thin mints': 12, 'samoas': 8}\n",
        "Connie = {'tagalongs': 10, 'thin mints': 4, 'samoas': 12}\n",
        "Francesca = {'tagalongs': 18, 'thin mints': 14, 'samoas': 10}\n",
        "\n",
        "# Use sum of all the values associated with each girl\n",
        "salesW = sum(Wendy.values())\n",
        "salesC =  sum(Connie.values())\n",
        "salesF = sum(Francesca.values())\n",
        "\n",
        "# Print out the number of boxes sold by each girl\n",
        "print(\"Wendy:\", salesW)\n",
        "print(\"Connie:\", salesC)\n",
        "print(\"Francesca:\", salesF)\n",
        "\n",
        "# For each type of girl scout cookie, print out the total number of boxes sold in the below format:\n",
        "# Initialize variables to store the total sales for each type of cookie\n",
        "total_tagalongs = 0\n",
        "total_thin_mints = 0\n",
        "total_samoas = 0\n",
        "\n",
        "# Iterate through each girl's sales data and accumulate the totals\n",
        "for sales in [Wendy, Connie, Francesca]:\n",
        "    total_tagalongs += sales.get('tagalongs', 0)\n",
        "    total_thin_mints += sales.get('thin mints', 0)\n",
        "    total_samoas += sales.get('samoas', 0)\n",
        "\n",
        "# Print out the total number of boxes sold for each type of cookie\n",
        "print(\"tagalongs:\", total_tagalongs)\n",
        "print(\"thin mints:\", total_thin_mints)\n",
        "print(\"samoas:\", total_samoas)\n",
        "\n",
        "\n",
        "\n",
        "# For each type of girl scout cookie, print out the average number of boxes sold in the below format:\n",
        "\n",
        "# Calculate the average number of boxes sold for each type of cookie\n",
        "num_girls = 3  # Assuming there are 3 girls in the troop\n",
        "avg_tagalongs = total_tagalongs / num_girls\n",
        "avg_thinmints = total_thin_mints / num_girls\n",
        "avg_samoas = total_samoas / num_girls\n",
        "\n",
        "print(\"tagalongs:\", avg_tagalongs)\n",
        "print(\"thin mints:\", avg_thinmints)\n",
        "print(\"samoas:\", avg_samoas)\n",
        "\n",
        "# Print out total the number of boxes of cookies the girls sold collectively as follows:\n",
        "\t# \"This year we sold ______ boxes!\"\n",
        "\n",
        "total_boxes_sold = sum(Wendy.values()) + sum(Connie.values()) + sum(Francesca.values())\n",
        "\n",
        "print(\"This year we sold\", total_boxes_sold, \"boxes!\")\n",
        "### boxes_sold ="
      ]
    },
    {
      "cell_type": "markdown",
      "metadata": {
        "id": "b1RufB1H2C-v"
      },
      "source": [
        "\n",
        "\n",
        "### P4.PY Inverting Keys & Values\n",
        "\n",
        "\n"
      ]
    },
    {
      "cell_type": "code",
      "execution_count": 25,
      "metadata": {
        "id": "S5Xktdwa2C-v",
        "colab": {
          "base_uri": "https://localhost:8080/"
        },
        "outputId": "3a57ee7f-e6f0-48ec-a6f6-b9067f09186e"
      },
      "outputs": [
        {
          "output_type": "stream",
          "name": "stdout",
          "text": [
            "Inverted dictionary: {'v1': 'k3', 'v2': 'k2'}\n"
          ]
        }
      ],
      "source": [
        "\"\"\"\n",
        "Inverting Keys & Values\n",
        "\"\"\"\n",
        "\n",
        "# Invert dict1 - make the current keys into values and the current values into keys.\n",
        "\n",
        "\n",
        "dict1 = { \"k1\" : \"v1\", \"k2\" : \"v2\", \"k3\" : \"v1\" }\n",
        "# Invert the dictionary\n",
        "inverted_dict1 = {value: key for key, value in dict1.items()}\n",
        "\n",
        "# Print the inverted dictionary\n",
        "print(\"Inverted dictionary:\", inverted_dict1)"
      ]
    },
    {
      "cell_type": "markdown",
      "metadata": {
        "id": "v6GbwGWt2C-v"
      },
      "source": [
        "\n",
        "\n",
        "### P5.PY Lists to Dicts\n",
        "\n",
        "\n"
      ]
    },
    {
      "cell_type": "code",
      "execution_count": 28,
      "metadata": {
        "id": "qUk2XDIG2C-v",
        "colab": {
          "base_uri": "https://localhost:8080/"
        },
        "outputId": "57b57c73-6bca-4823-fa3b-32025778cd54"
      },
      "outputs": [
        {
          "output_type": "stream",
          "name": "stdout",
          "text": [
            "Grades: {'Taq': [98, 89, 92, 94], 'Zola': [86, 45, 98, 100], 'Valerie': [76, 79, 80, 82]}\n"
          ]
        }
      ],
      "source": [
        "\"\"\"\n",
        "Lists to Dicts\n",
        "\"\"\"\n",
        "\n",
        "# Turn these two lists into a dict called grades.\n",
        "\n",
        "names = ['Taq', 'Zola', 'Valerie', 'Valerie']\n",
        "scores = [[98, 89, 92, 94], [86, 45, 98, 100], [100, 100, 100, 100], [76, 79, 80, 82]]\n",
        "\n",
        "# Create an empty dictionary to store the grades\n",
        "grades = {}\n",
        "\n",
        "# Iterate through the index of names list\n",
        "for i in range(len(names)):\n",
        "    # Get the name at index i\n",
        "    name = names[i]\n",
        "    # Get the scores list at index i\n",
        "    score_list = scores[i]\n",
        "    # Assign the name as key and scores list as value in the grades dictionary\n",
        "    grades[name] = score_list\n",
        "\n",
        "# Print the grades dictionary\n",
        "print(\"Grades:\", grades)"
      ]
    },
    {
      "cell_type": "markdown",
      "metadata": {
        "id": "mAjUVLXV2C-v"
      },
      "source": [
        "\n",
        "\n",
        "## SEARCH_VALIDATION\n",
        "\n",
        "### P1.PY Login Credentials\n",
        "\n",
        "\n"
      ]
    },
    {
      "cell_type": "code",
      "execution_count": 34,
      "metadata": {
        "id": "Ri8dGdVz2C-w",
        "colab": {
          "base_uri": "https://localhost:8080/"
        },
        "outputId": "afa0ad72-6c92-4f68-84ff-e0300b446523"
      },
      "outputs": [
        {
          "output_type": "stream",
          "name": "stdout",
          "text": [
            "Login successful!\n"
          ]
        }
      ],
      "source": [
        "\"\"\"\n",
        "Login Credentials\n",
        "\"\"\"\n",
        "\n",
        "# Imagine you work for a movie streaming service. You're in charge of safeguarding user privacy by ensuring the login feature remains secure. For the sake of example only, below is the dict of user login info. Normally, you wouldn't have access to see this unencrypted of course!\n",
        "\n",
        "users = {\n",
        "\t'person@email.com': 'PassWord',\n",
        "\t'someone@email.com': 'hiitsme',\n",
        "\t'me@email.com': 'myPassword',\n",
        "\t'anyone@email.com': 'IMawesome',\n",
        "\t'guy@email.com': 'pa$$wordz'\n",
        "\t# etc\n",
        "}\n",
        "\n",
        "\n",
        "# A user enters the below login info (email and password) for your app. Search your database of user logins to see if this account exists and if the password matches what you have on file. If the login credentials are correct, print \"Successful login!\". Otherwise, print \"The login info you entered does not match any of our records.\"\n",
        "\n",
        "current_user = { 'me@email.com': 'danny' }\n",
        "\n",
        "# Check if a user exists and verify their credentials\n",
        "def verify_user(email, password):\n",
        "    if email in users and users[email] == password:\n",
        "        return True\n",
        "    else:\n",
        "        return False\n",
        "\n",
        "# Example usage\n",
        "email = 'me@email.com'\n",
        "password = 'myPassword'\n",
        "if verify_user(email, password):\n",
        "    print(\"Login successful!\")\n",
        "else:\n",
        "    print(\"Invalid email or password.\")"
      ]
    },
    {
      "cell_type": "markdown",
      "metadata": {
        "id": "oguDtnPQ2C-w"
      },
      "source": [
        "\n",
        "\n",
        "## COUNTERS_CHALLENGE\n",
        "\n",
        "### P1.PY CHALLENGE - Word Frequency\n",
        "\n",
        "\n"
      ]
    },
    {
      "cell_type": "code",
      "execution_count": null,
      "metadata": {
        "id": "mUBadTrd2C-w"
      },
      "outputs": [],
      "source": [
        "\"\"\"\n",
        "CHALLENGE - Word Frequency\n",
        "\"\"\"\n",
        "\n",
        "# Print out the number of words in this movie quote. Find and print out the most common word in the quote and how many times it was used.\n",
        "### Hint: You do not need a loop for this. Look up the Counter docs in python3.\n",
        "\n",
        "from collections import Counter\n",
        "\n",
        "princess_bride = [\n",
        "'Hello', 'my', 'name', 'is', 'Inigo', 'Montoya',\n",
        "'You', 'killed', 'my', 'father',\n",
        "'Prepare', 'to', 'die'\n",
        "]\n",
        "\n",
        "### fave_word =\n",
        "\n",
        "# p.s. You might use this to help analyze the most common topic in comments or reviews from your users to help understand the best places to improve you product."
      ]
    },
    {
      "cell_type": "markdown",
      "metadata": {
        "id": "dejJ1rr72C-w"
      },
      "source": [
        "\n",
        "\n",
        "### P2.PY CHALLENGE - Summing Dict Values\n",
        "\n",
        "\n"
      ]
    },
    {
      "cell_type": "code",
      "execution_count": null,
      "metadata": {
        "id": "AB2KsHmp2C-w"
      },
      "outputs": [],
      "source": [
        "\"\"\"\n",
        "CHALLENGE - Summing Dict Values\n",
        "\"\"\"\n",
        "\n",
        "# Two Kindergarten tea                              chers poll their classes for what fruit they want to eat for snacktime tomorrow. Only one of them is going shopping, so she needs to know how many of each fruit she needs to buy in total. Tally these up and assign them to the \"shopping_list\" dict.\n",
        "\n",
        "poll1 = {'apples': 8, 'bananas': 12}\n",
        "poll2 = {'apples': 6, 'bananas': 6, 'clementines': 8}\n",
        "\n",
        "### shopping_list =\n",
        "\n"
      ]
    },
    {
      "cell_type": "markdown",
      "metadata": {
        "id": "NPQ-Gnu12C-w"
      },
      "source": [
        "\n"
      ]
    }
  ],
  "metadata": {
    "colab": {
      "provenance": []
    },
    "language_info": {
      "name": "python"
    },
    "kernelspec": {
      "name": "python3",
      "display_name": "Python 3"
    }
  },
  "nbformat": 4,
  "nbformat_minor": 0
}